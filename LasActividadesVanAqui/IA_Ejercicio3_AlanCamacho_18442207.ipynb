{
  "nbformat": 4,
  "nbformat_minor": 0,
  "metadata": {
    "colab": {
      "name": "IA_Ejercicio3_AlanCamacho_18442207.ipynb",
      "provenance": []
    },
    "kernelspec": {
      "name": "python3",
      "display_name": "Python 3"
    },
    "language_info": {
      "name": "python"
    }
  },
  "cells": [
    {
      "cell_type": "code",
      "execution_count": null,
      "metadata": {
        "id": "gRuU66v2-5Qj"
      },
      "outputs": [],
      "source": [
        "#EJERCICIOS EN PYTHON ALAN ISMAEL CAMACHO ACOSTA 1844207 N1"
      ]
    },
    {
      "cell_type": "code",
      "source": [
        "Animales=[\"perro\",\"gato\",\"conejo\",\"pingüino\",\"alpaca\"]\n",
        "def lista():\n",
        "  for lista in Animales:\n",
        "    print(lista)\n",
        "print(\"************\")\n",
        "lista()\n",
        "print(\"************\")"
      ],
      "metadata": {
        "colab": {
          "base_uri": "https://localhost:8080/"
        },
        "id": "753DGA6i--LN",
        "outputId": "e8cf6c5c-b7ca-4b8b-fad2-50b2d5438847"
      },
      "execution_count": 2,
      "outputs": [
        {
          "output_type": "stream",
          "name": "stdout",
          "text": [
            "************\n",
            "perro\n",
            "gato\n",
            "conejo\n",
            "pingüino\n",
            "alpaca\n",
            "************\n"
          ]
        }
      ]
    }
  ]
}