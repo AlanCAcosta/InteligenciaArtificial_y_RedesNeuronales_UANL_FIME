{
  "nbformat": 4,
  "nbformat_minor": 0,
  "metadata": {
    "colab": {
      "name": "IA_Ejercicio1_AlanCamacho_18442207.ipynb",
      "provenance": []
    },
    "kernelspec": {
      "name": "python3",
      "display_name": "Python 3"
    },
    "language_info": {
      "name": "python"
    }
  },
  "cells": [
    {
      "cell_type": "code",
      "source": [
        "#EJERCICIOS EN PYTHON ALAN ISMAEL CAMACHO ACOSTA 1844207 N1"
      ],
      "metadata": {
        "id": "w6xg-9nW4ctT"
      },
      "execution_count": null,
      "outputs": []
    },
    {
      "cell_type": "code",
      "execution_count": 33,
      "metadata": {
        "colab": {
          "base_uri": "https://localhost:8080/"
        },
        "id": "lH5xmOhX4BKG",
        "outputId": "a9242182-0781-4a66-fc53-71082f2c98f8"
      },
      "outputs": [
        {
          "output_type": "stream",
          "name": "stdout",
          "text": [
            "Bienvenido, ¿Cuál es su nombre?Alan\n",
            "Hola Alan\n"
          ]
        }
      ],
      "source": [
        "nom = input(\"Bienvenido, ¿Cuál es su nombre?\")\n",
        "if nom == (\"Ana\") or nom== \"Juan\" or (nom==\"Pedro\"):\n",
        "  print(\"No es posible continuar con su nombre.\")\n",
        "else:\n",
        "    print(\"Hola \" + nom)"
      ]
    }
  ]
}