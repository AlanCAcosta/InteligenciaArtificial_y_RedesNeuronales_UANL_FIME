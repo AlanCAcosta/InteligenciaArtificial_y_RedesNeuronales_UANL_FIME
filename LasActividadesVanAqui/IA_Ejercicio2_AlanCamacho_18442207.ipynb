{
  "nbformat": 4,
  "nbformat_minor": 0,
  "metadata": {
    "colab": {
      "name": "IA_Ejercicio2_AlanCamacho_18442207.ipynb",
      "provenance": []
    },
    "kernelspec": {
      "name": "python3",
      "display_name": "Python 3"
    },
    "language_info": {
      "name": "python"
    }
  },
  "cells": [
    {
      "cell_type": "code",
      "execution_count": null,
      "metadata": {
        "id": "khttWNCK9_c-"
      },
      "outputs": [],
      "source": [
        "#EJERCICIOS EN PYTHON ALAN ISMAEL CAMACHO ACOSTA 1844207 N1"
      ]
    },
    {
      "cell_type": "code",
      "source": [
        "lista=[\"Ana\",\"Pedro\",\"Juan\",\"Maria\"]\n",
        "def InvertirLista():\n",
        "  print(lista[::-1])\n",
        "def UltimoElemento():\n",
        "  print(lista[-1]) \n",
        "UltimoElemento()\n",
        "InvertirLista()\n"
      ],
      "metadata": {
        "colab": {
          "base_uri": "https://localhost:8080/"
        },
        "id": "uIP2RTW--D8h",
        "outputId": "49e8bb29-74b0-4c96-8b68-6a21717ec0b1"
      },
      "execution_count": 4,
      "outputs": [
        {
          "output_type": "stream",
          "name": "stdout",
          "text": [
            "Maria\n",
            "['Maria', 'Juan', 'Pedro', 'Ana']\n"
          ]
        }
      ]
    }
  ]
}