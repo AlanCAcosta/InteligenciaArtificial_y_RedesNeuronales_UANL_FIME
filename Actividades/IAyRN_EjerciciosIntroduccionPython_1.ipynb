{
  "nbformat": 4,
  "nbformat_minor": 0,
  "metadata": {
    "colab": {
      "name": "IAyRN_EjerciciosIntroduccionPython_1.ipynb",
      "provenance": []
    },
    "kernelspec": {
      "name": "python3",
      "display_name": "Python 3"
    },
    "language_info": {
      "name": "python"
    }
  },
  "cells": [
    {
      "cell_type": "markdown",
      "metadata": {
        "id": "qzlFWGKcAzr5"
      },
      "source": [
        "# **Ejercicios Introducción Python**\n",
        "\n",
        "Instrucciones\n",
        "1. La primera celda de su notebook deberá contener el título de la actividad, su nombre, matrícula y hora de clase. \n",
        "2. Para cada ejercicio realizar los comentarios necesarios para entender el funcionamiento de su código. \n",
        "3. Cada celda deberá ser ejecutada antes de guardar su archivo .ipynb.\n",
        "4. La versión final del notebook la guardarán en una carpeta con el nombre  \"LasActividadesVanAqui\" y el nombre de su notebook deberá tener la siguiente estructura: IA_Ejercicio1_Nombre_Matrícula, por ejemplo, \"IA_Ejercicio1_DanielLopez_1234567\".\n",
        "5. Como evidencia a esta actividad, subir un pdf con el link del ejercicio en su repositorio de GitHub. \n",
        "\n",
        "\n",
        "**Ejercicio 1:**\n",
        "\n",
        "Crear un programa que pregunte al usuario por su nombre, edad, una frase favorita y autor de la frase favorita. El programa deberá de imprimir un mensaje compuesto por el nombre y edad del usuario diciendo que su frase favorita es la que dió anteriormente y el autor de dicha frase es el nombre previamente dado. Aquí habrá que realizar una concatenación de variables. \n",
        "\n",
        "**Ejercicio 2**\n",
        "\n",
        "Crear un programa que le pida al usuario capturar dos números enteros y dos números flotantes. Después, realizará la suma, resta, multiplicación y división, de ambos pares de números. Como resultado se deberán de obtener 8 valores. Imprimir todos estos reultados.\n",
        "\n",
        "**Ejercicio 3**\n",
        "\n",
        "Crear un programa que evalúe dos expresiones lógicas con `and`, dos con `or` y dos con `not`. Cada expresión deberá hacer uso de operadores de comparación. \n",
        "\n"
      ]
    },
    {
      "cell_type": "code",
      "metadata": {
        "id": "V-rhb-9IAyzU"
      },
      "source": [
        ""
      ],
      "execution_count": null,
      "outputs": []
    }
  ]
}